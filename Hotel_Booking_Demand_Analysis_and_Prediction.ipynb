{
  "metadata": {
    "kernelspec": {
      "display_name": "Python 3 (ipykernel)",
      "language": "python",
      "name": "python3"
    },
    "language_info": {
      "codemirror_mode": {
        "name": "ipython",
        "version": 3
      },
      "file_extension": ".py",
      "mimetype": "text/x-python",
      "name": "python",
      "nbconvert_exporter": "python",
      "pygments_lexer": "ipython3",
      "version": "3.8.5"
    },
    "kaggle": {
      "accelerator": "none",
      "dataSources": [
        {
          "sourceId": 944030,
          "sourceType": "datasetVersion",
          "datasetId": 511638
        }
      ],
      "dockerImageVersionId": 30746,
      "isInternetEnabled": false,
      "language": "python",
      "sourceType": "notebook",
      "isGpuEnabled": false
    },
    "colab": {
      "name": "Hotel Booking Demand Analysis and Prediction",
      "provenance": [],
      "include_colab_link": true
    }
  },
  "nbformat_minor": 0,
  "nbformat": 4,
  "cells": [
    {
      "cell_type": "markdown",
      "metadata": {
        "id": "view-in-github",
        "colab_type": "text"
      },
      "source": [
        "<a href=\"https://colab.research.google.com/github/SrishBansal/Hotel__advertising_genai/blob/main/Hotel_Booking_Demand_Analysis_and_Prediction.ipynb\" target=\"_parent\"><img src=\"https://colab.research.google.com/assets/colab-badge.svg\" alt=\"Open In Colab\"/></a>"
      ]
    },
    {
      "source": [
        "\n",
        "# IMPORTANT: RUN THIS CELL IN ORDER TO IMPORT YOUR KAGGLE DATA SOURCES\n",
        "# TO THE CORRECT LOCATION (/kaggle/input) IN YOUR NOTEBOOK,\n",
        "# THEN FEEL FREE TO DELETE THIS CELL.\n",
        "# NOTE: THIS NOTEBOOK ENVIRONMENT DIFFERS FROM KAGGLE'S PYTHON\n",
        "# ENVIRONMENT SO THERE MAY BE MISSING LIBRARIES USED BY YOUR\n",
        "# NOTEBOOK.\n",
        "\n",
        "import os\n",
        "import sys\n",
        "from tempfile import NamedTemporaryFile\n",
        "from urllib.request import urlopen\n",
        "from urllib.parse import unquote, urlparse\n",
        "from urllib.error import HTTPError\n",
        "from zipfile import ZipFile\n",
        "import tarfile\n",
        "import shutil\n",
        "\n",
        "CHUNK_SIZE = 40960\n",
        "DATA_SOURCE_MAPPING = 'hotel-booking-demand:https%3A%2F%2Fstorage.googleapis.com%2Fkaggle-data-sets%2F511638%2F944030%2Fbundle%2Farchive.zip%3FX-Goog-Algorithm%3DGOOG4-RSA-SHA256%26X-Goog-Credential%3Dgcp-kaggle-com%2540kaggle-161607.iam.gserviceaccount.com%252F20240921%252Fauto%252Fstorage%252Fgoog4_request%26X-Goog-Date%3D20240921T093605Z%26X-Goog-Expires%3D259200%26X-Goog-SignedHeaders%3Dhost%26X-Goog-Signature%3Da9741a96293d71ba82de4c6cd2f39f556cff0c32bf545b18ad390bfb43eef87faf6e170eaf149948ee30a3b3a5ac8c047e11a5d94572da98ad3b986ced32540f9f57dae64a141e3bb56cc4b7270b2f8be5b074828fc57e21d50f89d6b2a8ec509c46f6054e3fc8662cffc708eedef364a8deecfaf9d91e3defc235fcd93690761777dd2456d77f233a32d6f867547404c67766d84ce905d36781118726f08936dc05ea1d03b2e1ee824df6056481503176a531e91a98ae2625f036e9e1568f389ab95c3a67a3c5a965837eba0f30707280e70df92818ed238a91f6f6471260da5448c37bbe2fdfb69fea081f3d87bee990d3809c0bfbf92f6a55d7a2e12de0db'\n",
        "\n",
        "KAGGLE_INPUT_PATH='/kaggle/input'\n",
        "KAGGLE_WORKING_PATH='/kaggle/working'\n",
        "KAGGLE_SYMLINK='kaggle'\n",
        "\n",
        "!umount /kaggle/input/ 2> /dev/null\n",
        "shutil.rmtree('/kaggle/input', ignore_errors=True)\n",
        "os.makedirs(KAGGLE_INPUT_PATH, 0o777, exist_ok=True)\n",
        "os.makedirs(KAGGLE_WORKING_PATH, 0o777, exist_ok=True)\n",
        "\n",
        "try:\n",
        "  os.symlink(KAGGLE_INPUT_PATH, os.path.join(\"..\", 'input'), target_is_directory=True)\n",
        "except FileExistsError:\n",
        "  pass\n",
        "try:\n",
        "  os.symlink(KAGGLE_WORKING_PATH, os.path.join(\"..\", 'working'), target_is_directory=True)\n",
        "except FileExistsError:\n",
        "  pass\n",
        "\n",
        "for data_source_mapping in DATA_SOURCE_MAPPING.split(','):\n",
        "    directory, download_url_encoded = data_source_mapping.split(':')\n",
        "    download_url = unquote(download_url_encoded)\n",
        "    filename = urlparse(download_url).path\n",
        "    destination_path = os.path.join(KAGGLE_INPUT_PATH, directory)\n",
        "    try:\n",
        "        with urlopen(download_url) as fileres, NamedTemporaryFile() as tfile:\n",
        "            total_length = fileres.headers['content-length']\n",
        "            print(f'Downloading {directory}, {total_length} bytes compressed')\n",
        "            dl = 0\n",
        "            data = fileres.read(CHUNK_SIZE)\n",
        "            while len(data) > 0:\n",
        "                dl += len(data)\n",
        "                tfile.write(data)\n",
        "                done = int(50 * dl / int(total_length))\n",
        "                sys.stdout.write(f\"\\r[{'=' * done}{' ' * (50-done)}] {dl} bytes downloaded\")\n",
        "                sys.stdout.flush()\n",
        "                data = fileres.read(CHUNK_SIZE)\n",
        "            if filename.endswith('.zip'):\n",
        "              with ZipFile(tfile) as zfile:\n",
        "                zfile.extractall(destination_path)\n",
        "            else:\n",
        "              with tarfile.open(tfile.name) as tarfile:\n",
        "                tarfile.extractall(destination_path)\n",
        "            print(f'\\nDownloaded and uncompressed: {directory}')\n",
        "    except HTTPError as e:\n",
        "        print(f'Failed to load (likely expired) {download_url} to path {destination_path}')\n",
        "        continue\n",
        "    except OSError as e:\n",
        "        print(f'Failed to load {download_url} to path {destination_path}')\n",
        "        continue\n",
        "\n",
        "print('Data source import complete.')\n"
      ],
      "metadata": {
        "id": "t7KckpwB796l"
      },
      "cell_type": "code",
      "outputs": [],
      "execution_count": null
    },
    {
      "cell_type": "markdown",
      "source": [
        "# Hotel Booking Demand Analysis and Prediction Project #"
      ],
      "metadata": {
        "id": "_HHU0vCk796t"
      }
    },
    {
      "cell_type": "markdown",
      "source": [
        "This project aims to analyze and predict hotel booking cancellations using a comprehensive dataset. I will perform extensive exploratory data analysis (EDA) to understand booking patterns, build a predictive model for cancellations, and evaluate the importance of various features in predicting cancellations.\n",
        "\n",
        "The project is divided into three main sections:\n",
        "1. Exploratory Data Analysis (EDA)\n",
        "2. Predicting Cancellations\n",
        "3. Evaluate Feature Importance"
      ],
      "metadata": {
        "id": "bQX8SanS796v"
      }
    },
    {
      "cell_type": "markdown",
      "source": [
        "### 1. Exploratory Data Analysis (EDA) ###"
      ],
      "metadata": {
        "id": "1sAlLzHj796x"
      }
    },
    {
      "cell_type": "markdown",
      "source": [
        "In this section, we will answer the following questions using visualizations created with Plotly:\n",
        "- Where do the guests come from?\n",
        "- How much do guests pay for a room per night?\n",
        "- How does the price per night vary over the year?\n",
        "- Which are the most busy months?\n",
        "- How long do people stay at the hotels?\n",
        "- Bookings by market segment\n",
        "- How many bookings were canceled?\n",
        "- Which month has the highest number of cancellations?"
      ],
      "metadata": {
        "id": "2mdgyuTe796y"
      }
    },
    {
      "cell_type": "markdown",
      "source": [
        "#### Load the data and clean the data ####"
      ],
      "metadata": {
        "id": "Tazc15tW796z"
      }
    },
    {
      "cell_type": "code",
      "source": [
        "!pip install shap"
      ],
      "metadata": {
        "id": "vIGV8g7F7961"
      },
      "execution_count": null,
      "outputs": []
    },
    {
      "cell_type": "code",
      "source": [
        "!pip install eli5"
      ],
      "metadata": {
        "id": "VChyfxCr7963"
      },
      "execution_count": null,
      "outputs": []
    },
    {
      "cell_type": "code",
      "source": [
        "import pandas as pd\n",
        "import numpy as np\n",
        "\n",
        "import plotly.express as px\n",
        "import plotly.graph_objects as go\n",
        "import matplotlib.pyplot as plt\n",
        "import seaborn as sns\n",
        "\n",
        "from sklearn.model_selection import train_test_split, cross_val_score\n",
        "from sklearn.preprocessing import StandardScaler, LabelEncoder\n",
        "from sklearn.linear_model import LogisticRegression\n",
        "from sklearn.tree import DecisionTreeClassifier\n",
        "from sklearn.ensemble import RandomForestClassifier, GradientBoostingClassifier\n",
        "from xgboost import XGBClassifier\n",
        "from sklearn.metrics import accuracy_score, precision_score, recall_score, f1_score, roc_curve, confusion_matrix\n",
        "import shap\n",
        "\n",
        "import warnings\n",
        "warnings.filterwarnings('ignore')"
      ],
      "metadata": {
        "id": "51L9kKHw7963"
      },
      "execution_count": null,
      "outputs": []
    },
    {
      "cell_type": "code",
      "source": [
        "df = pd.read_csv('hotel_bookings.csv')\n",
        "df"
      ],
      "metadata": {
        "id": "qbXm3lBl7964"
      },
      "execution_count": null,
      "outputs": []
    },
    {
      "cell_type": "code",
      "source": [
        "df.info()"
      ],
      "metadata": {
        "id": "w4ma-CA87964"
      },
      "execution_count": null,
      "outputs": []
    },
    {
      "cell_type": "code",
      "source": [
        "print(f'Columns with null values:\\n{df.isnull().sum()}')"
      ],
      "metadata": {
        "id": "a1aNmIsb7965"
      },
      "execution_count": null,
      "outputs": []
    },
    {
      "cell_type": "markdown",
      "source": [
        "Replace missing values:\n",
        "- agent: If no agency is specified, the booking was probably made independently.\n",
        "- company: If none company given, it was most likely a private booking."
      ],
      "metadata": {
        "id": "4qe9ZIXz7965"
      }
    },
    {
      "cell_type": "code",
      "source": [
        "nan_replacements = {\"children:\": 0,\"country\": \"Unknown\", \"agent\": 0, \"company\": 0}\n",
        "df_clean = df.fillna(nan_replacements)"
      ],
      "metadata": {
        "id": "yhDWdn967965"
      },
      "execution_count": null,
      "outputs": []
    },
    {
      "cell_type": "markdown",
      "source": [
        "Drop rows that contains 0 adults, 0 children and 0 babies."
      ],
      "metadata": {
        "id": "83TwszgO7965"
      }
    },
    {
      "cell_type": "code",
      "source": [
        "df_clean.drop(\n",
        "    df_clean.loc[\n",
        "        df_clean['adults']\n",
        "        + df_clean['children']\n",
        "        + df_clean['babies'] == 0].index,\n",
        "    inplace=True\n",
        ")"
      ],
      "metadata": {
        "id": "rIGqUzVq7966"
      },
      "execution_count": null,
      "outputs": []
    },
    {
      "cell_type": "markdown",
      "source": [
        "The \"meal\" column contains values of \"Undefined\", which are equivalent to SC."
      ],
      "metadata": {
        "id": "BYWnbj0u7966"
      }
    },
    {
      "cell_type": "code",
      "source": [
        "df_clean['meal'].replace('Undefined', 'SC', inplace=True)"
      ],
      "metadata": {
        "id": "aFaetv2O7967"
      },
      "execution_count": null,
      "outputs": []
    },
    {
      "cell_type": "code",
      "source": [
        "df_clean"
      ],
      "metadata": {
        "id": "YckzrxHR7967"
      },
      "execution_count": null,
      "outputs": []
    },
    {
      "cell_type": "code",
      "source": [
        "df_clean.shape"
      ],
      "metadata": {
        "id": "yWpbonhY7967"
      },
      "execution_count": null,
      "outputs": []
    },
    {
      "cell_type": "code",
      "source": [
        "df_clean.describe()"
      ],
      "metadata": {
        "id": "RJXT94Sg7968"
      },
      "execution_count": null,
      "outputs": []
    },
    {
      "cell_type": "markdown",
      "source": [
        "#### Where do the guests come from? ####\n",
        "\n",
        "To understand the origin of the guests, we will create a choropleth map showing the number of guests from different countries."
      ],
      "metadata": {
        "id": "JsPp4cmF7968"
      }
    },
    {
      "cell_type": "code",
      "source": [
        "country_counts = df_clean['country'].value_counts()\n",
        "\n",
        "fig = px.choropleth(country_counts, locations=country_counts.index, color=country_counts.values,\n",
        "                    title=\"Where do the guests come from?\",\n",
        "                    labels={'color':'Number of Guests'})\n",
        "fig.show()"
      ],
      "metadata": {
        "id": "fV8AL0_p7968"
      },
      "execution_count": null,
      "outputs": []
    },
    {
      "cell_type": "markdown",
      "source": [
        "The guest are from all over the world in the hotels.\n",
        "\n",
        "The most people are from:\n",
        "- Portugal\n",
        "- UK\n",
        "- France\n",
        "- Spain\n",
        "- Germany"
      ],
      "metadata": {
        "id": "qW65uqAA7968"
      }
    },
    {
      "cell_type": "markdown",
      "source": [
        "Separate Datasets for Resort and City Hotels"
      ],
      "metadata": {
        "id": "fxtzosv37968"
      }
    },
    {
      "cell_type": "code",
      "source": [
        "resort_hotel = df_clean[df_clean['hotel'] == 'Resort Hotel']\n",
        "city_hotel = df_clean[df_clean['hotel'] == 'City Hotel']"
      ],
      "metadata": {
        "id": "UDrLYxSI7968"
      },
      "execution_count": null,
      "outputs": []
    },
    {
      "cell_type": "code",
      "source": [
        "country_counts_resort = resort_hotel['country'].value_counts()\n",
        "\n",
        "fig = px.choropleth(country_counts_resort, locations=country_counts_resort.index, color=country_counts_resort.values,\n",
        "                    title=\"Where do the guests come from to Resort Hotel?\",\n",
        "                    labels={'color':'Number of Guests'})\n",
        "fig.show()"
      ],
      "metadata": {
        "id": "Bsn72hsd7969"
      },
      "execution_count": null,
      "outputs": []
    },
    {
      "cell_type": "markdown",
      "source": [
        "The most guest that visits Resort Hotel are from Portugal, UK and Spain"
      ],
      "metadata": {
        "id": "sV8nqw-U7969"
      }
    },
    {
      "cell_type": "code",
      "source": [
        "country_counts_city = city_hotel['country'].value_counts()\n",
        "\n",
        "fig = px.choropleth(country_counts_city, locations=country_counts_city.index, color=country_counts_city.values,\n",
        "                    title=\"Where do the guests come from to City Hotel?\",\n",
        "                    labels={'color':'Number of Guests'})\n",
        "fig.show()"
      ],
      "metadata": {
        "id": "J99oibuU7969"
      },
      "execution_count": null,
      "outputs": []
    },
    {
      "cell_type": "markdown",
      "source": [
        "The most guest that visits Resort Hotel are from:\n",
        "- Portugal\n",
        "- France\n",
        "- Germany\n",
        "- UK\n",
        "- Spain"
      ],
      "metadata": {
        "id": "slNn2X0R7969"
      }
    },
    {
      "cell_type": "markdown",
      "source": [
        "#### How much do guests pay for a room per night? ####\n",
        "\n",
        "Plot the distribution of the average daily rate (ADR) to understand the price guests pay per night.\n",
        "\n",
        "Counting adults and children as paying guests only"
      ],
      "metadata": {
        "id": "A_ajJZVK7969"
      }
    },
    {
      "cell_type": "code",
      "source": [
        "# Counting adults and children as paying guests only\n",
        "df['paying_guests'] = df['adults'] + df['children']\n",
        "\n",
        "# Filter out rows where there are no paying guests\n",
        "df_clean = df[df['paying_guests'] > 0]\n",
        "\n",
        "resort_hotel = df_clean[df_clean['hotel'] == 'Resort Hotel']\n",
        "city_hotel = df_clean[df_clean['hotel'] == 'City Hotel']"
      ],
      "metadata": {
        "id": "w2D-HX_U796-"
      },
      "execution_count": null,
      "outputs": []
    },
    {
      "cell_type": "code",
      "source": [
        "# Combine both datasets for plotting\n",
        "resort_hotel['hotel_type'] = 'Resort Hotel'\n",
        "city_hotel['hotel_type'] = 'City Hotel'\n",
        "combined_df = pd.concat([resort_hotel, city_hotel])\n",
        "\n",
        "# Create box plot\n",
        "fig = px.box(\n",
        "    combined_df,\n",
        "    x='reserved_room_type',\n",
        "    y='adr',\n",
        "    color='hotel_type',\n",
        "    title='Room Prices by Room Type for Resort and City Hotels',\n",
        "    labels={'reserved_room_type': 'Room Type', 'adr': 'Price [EUR]', 'hotel_type': 'Hotel Type'}\n",
        ")\n",
        "\n",
        "# Update layout to set y-axis limit\n",
        "fig.update_layout(\n",
        "    yaxis=dict(range=[0, 500])\n",
        ")\n",
        "\n",
        "fig.show()"
      ],
      "metadata": {
        "id": "yBkEap6b796-"
      },
      "execution_count": null,
      "outputs": []
    },
    {
      "cell_type": "markdown",
      "source": [
        "The box plot provides that the average price per room, depending on its type and the standard deviation.\n",
        "\n",
        "**Detailed Insights**\n",
        "- Room Type C:\n",
        "    - Resort Hotel: The prices for room type C in resort hotels are relatively high, with a median price around 200 EUR. The interquartile range (IQR) indicates variability, and there are several outliers reaching up to 400 EUR.\n",
        "    - City Hotel: For city hotels, room type C has a lower median price, around 100 EUR, and also shows some variability and outliers.\n",
        "- Room Type A:\n",
        "    - Resort Hotel: The median price is around 100 EUR, with a wide IQR and several outliers indicating higher price variability.\n",
        "    - City Hotel: Similar to resort hotels, but with a slightly higher median price around 120 EUR, and numerous outliers reaching above 200 EUR.\n",
        "- Room Type D:\n",
        "    - Resort Hotel: Room type D in resort hotels shows a median price around 150 EUR, with a wide IQR and significant price variability.\n",
        "    - City Hotel: The median price is slightly lower than in resort hotels, around 120 EUR, with several outliers.\n",
        "- Room Type E:\n",
        "    - Resort Hotel: Room type E has a median price around 150 EUR, with a wider IQR and several outliers.\n",
        "    - City Hotel: Similar to resort hotels but with a lower median price, around 120 EUR, and fewer outliers.\n",
        "- Room Type F:\n",
        "    - Resort Hotel: The median price is around 100 EUR, with a wide IQR and many outliers indicating price variability.\n",
        "    - City Hotel: The prices for room type F in city hotels are higher, with a median price around 150 EUR and many outliers.\n",
        "- Room Type G:\n",
        "    - Resort Hotel: The prices show a median of around 200 EUR with a wide IQR and several outliers.\n",
        "    - City Hotel: Lower median price around 150 EUR with a wide IQR and many outliers.\n",
        "- Room Type H:\n",
        "    - Resort Hotel: The prices are higher, with a median around 200 EUR and a very wide IQR, indicating high variability.\n",
        "    - City Hotel: Not available.\n",
        "- Room Type L:\n",
        "    - Resort Hotel: Lower prices with a median around 100 EUR and fewer outliers.\n",
        "    - City Hotel: Not available.\n",
        "- Room Type B:\n",
        "    - Resort Hotel: Lower prices with a median around 100 EUR and a narrower IQR.\n",
        "    - City Hotel: Higher variability, with a median price around 120 EUR and several outliers.\n",
        "\n",
        "**Key Takeaways:**\n",
        "- Price Variability: Resort hotels generally exhibit higher price variability compared to city hotels, as seen by the wider IQRs and the presence of numerous outliers.\n",
        "- Median Prices: Resort hotels tend to have higher median prices for most room types compared to city hotels.\n",
        "- Room Type Specifics: Certain room types (e.g., C, G, and H) in resort hotels command higher prices compared to other types, possibly reflecting better amenities or views associated with these room types."
      ],
      "metadata": {
        "id": "kooacuyS796-"
      }
    },
    {
      "cell_type": "markdown",
      "source": [
        "#### How does the price per night vary over the year? ####"
      ],
      "metadata": {
        "id": "bIAeOtGQ796_"
      }
    },
    {
      "cell_type": "markdown",
      "source": [
        "Plot showing the monthly variation in ADR to observe any seasonal trends in pricing."
      ],
      "metadata": {
        "id": "o9UwSZKA796_"
      }
    },
    {
      "cell_type": "code",
      "source": [
        "df_clean['adr_pp'] = df_clean['adr'] / df_clean['paying_guests']\n",
        "\n",
        "room_price_monthly = df_clean[\n",
        "    [\"hotel\", \"arrival_date_month\", \"adr_pp\"]\n",
        "].sort_values(\"arrival_date_month\")\n",
        "\n",
        "ordered_months = [\"January\", \"February\", \"March\", \"April\", \"May\", \"June\",\n",
        "          \"July\", \"August\", \"September\", \"October\", \"November\", \"December\"]\n",
        "\n",
        "room_price_monthly['arrival_date_month'] = pd.Categorical(\n",
        "    room_price_monthly[\"arrival_date_month\"],\n",
        "    categories=ordered_months,\n",
        "    ordered=True)\n",
        "\n",
        "monthly_adr = room_price_monthly.groupby(\n",
        "    ['hotel', 'arrival_date_month'])['adr_pp'].mean().reset_index()\n",
        "\n",
        "fig = px.line(\n",
        "    monthly_adr,\n",
        "    x='arrival_date_month',\n",
        "    y='adr_pp',\n",
        "    color='hotel',\n",
        "    title='Monthly ADR Variation per Person for Resort and City Hotels',\n",
        "    labels={'adr_pp':'Average Daily Rate per Person (ADR_PP)', 'arrival_date_month':'Month'}\n",
        ")\n",
        "\n",
        "# Update layout for better readability\n",
        "fig.update_layout(\n",
        "    xaxis=dict(\n",
        "        tickmode='array',\n",
        "        tickvals=ordered_months,\n",
        "        ticktext=ordered_months\n",
        "    )\n",
        ")\n",
        "\n",
        "fig.show()"
      ],
      "metadata": {
        "id": "Fv4sQjsb796_"
      },
      "execution_count": null,
      "outputs": []
    },
    {
      "cell_type": "markdown",
      "source": [
        "**Seasonal Trends:**\n",
        "- The line plot provides that the prices in the Resort hotel are much higher during the summer (June to August).\n",
        "- The peak for Resort hotels in July is more pronounced compared to City hotels, indicating a higher demand or increased pricing strategy during peak vacation season."
      ],
      "metadata": {
        "id": "RSS9e0N4796_"
      }
    },
    {
      "cell_type": "markdown",
      "source": [
        "#### Which are the most busy months? ####"
      ],
      "metadata": {
        "id": "_CTRk8uX796_"
      }
    },
    {
      "cell_type": "code",
      "source": [
        "resort_guests_monthly = resort_hotel.groupby(\"arrival_date_month\")[\"hotel\"].count()\n",
        "city_guests_monthly = city_hotel.groupby(\"arrival_date_month\")[\"hotel\"].count()\n",
        "\n",
        "resort_guest_data = pd.DataFrame({\"month\": list(resort_guests_monthly.index),\n",
        "                    \"hotel\": \"Resort hotel\",\n",
        "                    \"guests\": list(resort_guests_monthly.values)})\n",
        "\n",
        "city_guest_data = pd.DataFrame({\"month\": list(city_guests_monthly.index),\n",
        "                    \"hotel\": \"City hotel\",\n",
        "                    \"guests\": list(city_guests_monthly.values)})\n",
        "\n",
        "full_guest_data = pd.concat([resort_guest_data,city_guest_data], ignore_index=True)\n",
        "\n",
        "# order by month:\n",
        "ordered_months = [\"January\", \"February\", \"March\", \"April\", \"May\", \"June\",\n",
        "          \"July\", \"August\", \"September\", \"October\", \"November\", \"December\"]\n",
        "full_guest_data[\"month\"] = pd.Categorical(full_guest_data['month'], categories=ordered_months, ordered=True)\n",
        "\n",
        "# Dataset contains July and August date from 3 years, the other month from 2 years. Normalize data:\n",
        "full_guest_data.loc[(full_guest_data[\"month\"] == \"July\") | (full_guest_data[\"month\"] == \"August\"),\n",
        "                    \"guests\"] /= 3\n",
        "full_guest_data.loc[~((full_guest_data[\"month\"] == \"July\") | (full_guest_data[\"month\"] == \"August\")),\n",
        "                    \"guests\"] /= 2\n",
        "\n",
        "full_guest_data = full_guest_data.sort_values(\"month\")\n",
        "\n",
        "fig = px.line(\n",
        "    full_guest_data,\n",
        "    x='month',\n",
        "    y='guests',\n",
        "    color='hotel',\n",
        "    title='Monthly Bookings',\n",
        "    labels={'month':'Month', 'guests':'Nunber of guests'}\n",
        ")\n",
        "\n",
        "fig.show()"
      ],
      "metadata": {
        "id": "0r-sq7o-797H"
      },
      "execution_count": null,
      "outputs": []
    },
    {
      "cell_type": "markdown",
      "source": [
        "**Peak Seasons:**\n",
        "- From June to Semtember guest numbers for the Resort hotel go down slighty.\n",
        "- City hotels see high bookings in spring and autumn, indicating different peak times.\n",
        "- Both hotels have the fewest number of guests in November, December and January"
      ],
      "metadata": {
        "id": "m4c7dGSd797H"
      }
    },
    {
      "cell_type": "markdown",
      "source": [
        "#### How long do people stay at the hotels? ####"
      ],
      "metadata": {
        "id": "0VXQ3bSi797H"
      }
    },
    {
      "cell_type": "code",
      "source": [
        "resort_hotel['total_nights'] = resort_hotel['stays_in_weekend_nights'] + resort_hotel['stays_in_week_nights']\n",
        "city_hotel['total_nights'] = city_hotel['stays_in_weekend_nights'] + city_hotel['stays_in_week_nights']\n",
        "\n",
        "number_nights_reseort = list(resort_hotel[\"total_nights\"].value_counts().index)\n",
        "number_bookings_resort = list(resort_hotel[\"total_nights\"].value_counts())\n",
        "rel_bookings_resort = resort_hotel[\"total_nights\"].value_counts() / sum(number_bookings_resort) * 100\n",
        "\n",
        "number_nights_city = list(city_hotel[\"total_nights\"].value_counts().index)\n",
        "number_bookings_city = list(city_hotel[\"total_nights\"].value_counts())\n",
        "rel_bookings_city = city_hotel[\"total_nights\"].value_counts() / sum(number_bookings_city) * 100\n",
        "\n",
        "resort_nights = pd.DataFrame({\"hotel\": \"Resort hotel\",\n",
        "                           \"num_nights\": number_nights_reseort,\n",
        "                           \"rel_num_bookings\": rel_bookings_resort})\n",
        "city_nights = pd.DataFrame({\"hotel\": \"City hotel\",\n",
        "                           \"num_nights\": number_nights_city,\n",
        "                           \"rel_num_bookings\": rel_bookings_city})\n",
        "\n",
        "total_nights = pd.concat([resort_nights, city_nights], ignore_index=True)\n",
        "\n",
        "fig = px.bar(\n",
        "    total_nights,\n",
        "    x='num_nights',\n",
        "    y='rel_num_bookings',\n",
        "    color='hotel',\n",
        "    title='Length of stay',\n",
        "    labels={'num_nights':'Number of nights', 'rel_num_bookings':'Guests [%]'},\n",
        "    barmode='group'\n",
        ")\n",
        "\n",
        "fig.update_layout(\n",
        "    xaxis=dict(range=[0, 20])\n",
        ")\n",
        "\n",
        "fig.show()"
      ],
      "metadata": {
        "id": "qPXUDUai797H"
      },
      "execution_count": null,
      "outputs": []
    },
    {
      "cell_type": "markdown",
      "source": [
        "**Length of stay trends:**\n",
        "- for City Hotel guest prefers to stay for 1-4 nights\n",
        "- for Resort Hotel guest prefers to stay for 1-4 nights too, but 7 nights also stand out as being very popular."
      ],
      "metadata": {
        "id": "KD4SnPKE797I"
      }
    },
    {
      "cell_type": "markdown",
      "source": [
        "Let's calculate the average nights that guest stays in hotels"
      ],
      "metadata": {
        "id": "LpGbh-EG797I"
      }
    },
    {
      "cell_type": "code",
      "source": [
        "avg_night_resort = round(sum(list((resort_nights[\"num_nights\"] * (resort_nights[\"rel_num_bookings\"]/100)).values)))\n",
        "avg_night_city = round(sum(list((city_nights[\"num_nights\"] * (city_nights[\"rel_num_bookings\"]/100)).values)))\n",
        "\n",
        "print(f'Average nights that guests stays in Resort Hotel is {avg_night_resort}\\n'\n",
        "f'Average nights that guests stays in City Hotel is {avg_night_city}')"
      ],
      "metadata": {
        "id": "4QjD2GqX797I"
      },
      "execution_count": null,
      "outputs": []
    },
    {
      "cell_type": "markdown",
      "source": [
        "#### Bookings by market segments ####"
      ],
      "metadata": {
        "id": "EWzXDkSC797I"
      }
    },
    {
      "cell_type": "code",
      "source": [
        "market_segments = df_clean['market_segment'].value_counts()\n",
        "\n",
        "fig = px.pie(\n",
        "    values=market_segments.values,\n",
        "    names=market_segments.index,\n",
        "    title='Bookings by Market Segment'\n",
        ")\n",
        "\n",
        "fig.show()"
      ],
      "metadata": {
        "id": "Q2HbsRPk797I"
      },
      "execution_count": null,
      "outputs": []
    },
    {
      "cell_type": "markdown",
      "source": [
        "The most popular market segments is Online TA, Offline TA/TO and Groups"
      ],
      "metadata": {
        "id": "gh9yB0fO797J"
      }
    },
    {
      "cell_type": "code",
      "source": [
        "plt.figure(figsize=(12, 8))\n",
        "sns.barplot(x=\"market_segment\",\n",
        "            y=\"adr_pp\",\n",
        "            hue=\"reserved_room_type\",\n",
        "            data=df_clean,\n",
        "            ci=\"sd\",\n",
        "            errwidth=1,\n",
        "            capsize=0.1)\n",
        "plt.title(\"Price per night by market segment and room type\", fontsize=16)\n",
        "plt.xlabel(\"Market segment\", fontsize=16)\n",
        "plt.xticks(rotation=45)\n",
        "plt.ylabel(\"Price per night per person in EUR\", fontsize=16)\n",
        "plt.legend(loc=\"upper left\")\n",
        "plt.show()"
      ],
      "metadata": {
        "id": "GR-k_8p_797J"
      },
      "execution_count": null,
      "outputs": []
    },
    {
      "cell_type": "markdown",
      "source": [
        "- On avarege Groups have best prices per night.\n",
        "- Aviation have the highest price"
      ],
      "metadata": {
        "id": "LMKldwMq797J"
      }
    },
    {
      "cell_type": "markdown",
      "source": [
        "Why Aviation have the highest price (approximately twice as much)?"
      ],
      "metadata": {
        "id": "iIdrR-Zo797J"
      }
    },
    {
      "cell_type": "code",
      "source": [
        "aviation = df_clean.loc[\n",
        "    df_clean['market_segment'] == 'Aviation'\n",
        "][[\n",
        "    'is_canceled',\n",
        "    'adults',\n",
        "    'lead_time',\n",
        "    'adr_pp'\n",
        "]].describe()\n",
        "\n",
        "non_aviation = df_clean.loc[\n",
        "    df_clean['market_segment'] != 'Aviation'\n",
        "][[\n",
        "    'is_canceled',\n",
        "    'adults',\n",
        "    'lead_time',\n",
        "    'adr_pp'\n",
        "]].describe()"
      ],
      "metadata": {
        "id": "QRVKevGe797J"
      },
      "execution_count": null,
      "outputs": []
    },
    {
      "cell_type": "code",
      "source": [
        "aviation"
      ],
      "metadata": {
        "id": "E0MuXGsd797K"
      },
      "execution_count": null,
      "outputs": []
    },
    {
      "cell_type": "code",
      "source": [
        "non_aviation"
      ],
      "metadata": {
        "id": "eecemSV3797K"
      },
      "execution_count": null,
      "outputs": []
    },
    {
      "cell_type": "markdown",
      "source": [
        "Why Aviation have the highest price (approximately twice as much):\n",
        "- We can see big differrence in Lead Time between aviation and non aviation: 4 days vs 104 days\n",
        "- Airlines need a rooms for their crew and they usually books one room for a person"
      ],
      "metadata": {
        "id": "_lcY5zPA797K"
      }
    },
    {
      "cell_type": "markdown",
      "source": [
        "#### How many bookings were canceled? ####"
      ],
      "metadata": {
        "id": "5cN9IDB9797L"
      }
    },
    {
      "cell_type": "code",
      "source": [
        "canceled_counts = df_clean['is_canceled'].value_counts()\n",
        "fig = px.bar(\n",
        "    canceled_counts,\n",
        "    x=canceled_counts.index,\n",
        "    y=canceled_counts.values,\n",
        "    title='Cancellations vs Non-Cancellations',\n",
        "    labels={'x':'Is Canceled', 'y':'Number of Bookings'}\n",
        ")\n",
        "fig.show()"
      ],
      "metadata": {
        "id": "thOw48fc797L"
      },
      "execution_count": null,
      "outputs": []
    },
    {
      "cell_type": "code",
      "source": [
        "resort_canceled = df_clean.loc[df_clean['hotel'] == 'Resort Hotel']['is_canceled'].sum()\n",
        "resort_canceled_percent = round(resort_canceled / df_clean.loc[df_clean['hotel'] == 'Resort Hotel'].shape[0] * 100, 2)\n",
        "\n",
        "city_canceled = df_clean.loc[df_clean['hotel'] == 'City Hotel']['is_canceled'].sum()\n",
        "city_canceled_percent = round(city_canceled / df_clean.loc[df_clean['hotel'] == 'City Hotel'].shape[0] * 100, 2)\n",
        "\n",
        "print(f\"Total booking canceled: {df_clean['is_canceled'].sum()}, {round(df_clean['is_canceled'].sum() / df_clean.shape[0] * 100, 2)} %\")\n",
        "print(f\"Resort Hotel canceled: {resort_canceled}, {resort_canceled_percent}%\")\n",
        "print(f\"City Hotel canceled: {city_canceled}, {city_canceled_percent}%\")"
      ],
      "metadata": {
        "id": "KOkqqUd3797L"
      },
      "execution_count": null,
      "outputs": []
    },
    {
      "cell_type": "markdown",
      "source": [
        "City Hotels have a significantly higher cancellation rate compared to Resort Hotels. This could be influenced by the nature of the stays—business versus leisure—or other factors like location flexibility or booking policies."
      ],
      "metadata": {
        "id": "c2NXiNkq797L"
      }
    },
    {
      "cell_type": "markdown",
      "source": [
        "#### Concelation by month ####"
      ],
      "metadata": {
        "id": "75cJet02797M"
      }
    },
    {
      "cell_type": "code",
      "source": [
        "resort_booking_per_month = df_clean.loc[df_clean['hotel']\n",
        "                                       == 'Resort Hotel'].groupby('arrival_date_month')['hotel'].count()\n",
        "resort_cancel_per_month = df_clean.loc[df_clean['hotel']\n",
        "                                       == 'Resort Hotel'].groupby('arrival_date_month')['is_canceled'].sum()\n",
        "\n",
        "city_booking_pere_month = df_clean.loc[df_clean['hotel']\n",
        "                                       == 'City Hotel'].groupby('arrival_date_month')['hotel'].count()\n",
        "city_cancel_per_month = df_clean.loc[df_clean['hotel']\n",
        "                                       == 'City Hotel'].groupby('arrival_date_month')['is_canceled'].sum()\n",
        "\n",
        "resort_cancel_data = pd.DataFrame({\"Hotel\": \"Resort Hotel\",\n",
        "                                   \"Month\": list(resort_booking_per_month.index),\n",
        "                                   \"Bookings\": list(resort_booking_per_month.values),\n",
        "                                   \"Cancelations\": list(resort_cancel_per_month.values)})\n",
        "\n",
        "city_cancel_data = pd.DataFrame({\"Hotel\": \"City Hotel\",\n",
        "                                 \"Month\": list(city_booking_pere_month.index),\n",
        "                                 \"Bookings\": list(city_booking_pere_month.values),\n",
        "                                 \"Cancelations\": list(city_cancel_per_month.values)})\n",
        "\n",
        "canceled_df = pd.concat([resort_cancel_data, city_cancel_data],\n",
        "                        ignore_index=True)\n",
        "canceled_df['Canceled_percent'] = canceled_df['Cancelations'] / canceled_df['Bookings'] * 100\n",
        "\n",
        "ordered_months = [\"January\", \"February\", \"March\", \"April\", \"May\", \"June\",\n",
        "          \"July\", \"August\", \"September\", \"October\", \"November\", \"December\"]\n",
        "canceled_df['Month'] = pd.Categorical(canceled_df['Month'], categories=ordered_months, ordered=True)\n",
        "canceled_df = canceled_df.sort_values('Month')"
      ],
      "metadata": {
        "id": "xDTO749u797M"
      },
      "execution_count": null,
      "outputs": []
    },
    {
      "cell_type": "code",
      "source": [
        "fig = px.bar(\n",
        "    canceled_df,\n",
        "    x='Month',\n",
        "    y='Canceled_percent',\n",
        "    color='Hotel',\n",
        "    title='Cancelation per month by hotels',\n",
        "    labels={'Month':'Month', 'Canceled_percent':'Cancelations [%]'},\n",
        "    barmode='group'\n",
        ")\n",
        "\n",
        "fig.show()"
      ],
      "metadata": {
        "id": "3wr5jrg0797M"
      },
      "execution_count": null,
      "outputs": []
    },
    {
      "cell_type": "markdown",
      "source": [
        "**City Hotels:**\n",
        "- Higher Cancellation Rates: Across almost every month, City Hotels consistently have higher cancellation rates compared to Resort Hotels, often exceeding 40%.\n",
        "- Peak Cancellation Months:\n",
        "    - April, May, June, and October stand out with cancellation rates around or above 45%.\n",
        "    - September, October and December also see high cancellation rates, consistently close to 40%.\n",
        "- Lowest Cancellations: The lowest cancellation rates in City Hotels are observed in March (around 37%).\n",
        "\n",
        "**Resort Hotels:**\n",
        "- Lower Cancellation Rates: Resort Hotels show significantly lower cancellation rates across the board, generally staying between 15% and 35%.\n",
        "- Monthly Variations:\n",
        "    - Summer months and Semptember have relatively higher cancellation rates, close to 30% to 35%.\n",
        "    - January and November have the lowest cancellation rates, especially in January, which drops below 20%."
      ],
      "metadata": {
        "id": "1gV314Wf797M"
      }
    },
    {
      "cell_type": "markdown",
      "source": [
        "**Overall Trends:**\n",
        " - City Hotels experience a much higher rate of cancellations across all months compared to Resort Hotels, which suggests different booking behaviors between the two types of hotels.\n",
        "- The higher cancellation rates in City Hotels may be attributed to factors such as business travel, where plans are more likely to change, or the availability of multiple accommodation options in urban areas.\n",
        "\n",
        "**Seasonal Patterns:**\n",
        "- For Resort Hotels, cancellation rates are higher during the summer months, possibly due to the higher volume of bookings during these peak vacation periods. However, they are still significantly lower than those of City Hotels.\n",
        "- City Hotels see consistently high cancellation rates throughout the year, but they peak during transitional months like April, June, and October, which might correspond to changes in travel plans or business schedules."
      ],
      "metadata": {
        "id": "l10FEWOj797N"
      }
    },
    {
      "cell_type": "markdown",
      "source": [
        "### 2. Predicting Cancellations ###"
      ],
      "metadata": {
        "id": "t5BIi5fN797N"
      }
    },
    {
      "cell_type": "code",
      "source": [
        "is_cancel_corr = df_clean.corr()\n",
        "\n",
        "fig = px.imshow(is_cancel_corr)\n",
        "fig.update_layout(\n",
        "    width=1000,\n",
        "    height=800\n",
        ")\n",
        "fig.show()"
      ],
      "metadata": {
        "id": "ipOK9CpK797N"
      },
      "execution_count": null,
      "outputs": []
    },
    {
      "cell_type": "markdown",
      "source": [
        "This correlation matrix shows that *is_canceled* has a weak positive correlation with *lead_time* and weak negative correlations with *total_of_special_requests*, *required_car_parking_spaces*, and *booking_changes*."
      ],
      "metadata": {
        "id": "TzSgmmH9797N"
      }
    },
    {
      "cell_type": "markdown",
      "source": [
        "Let's look for no numeric feature: reservation_status"
      ],
      "metadata": {
        "id": "xJDdPMDF797O"
      }
    },
    {
      "cell_type": "code",
      "source": [
        "df_clean.groupby('is_canceled')['reservation_status'].value_counts()"
      ],
      "metadata": {
        "id": "AqFURmVZ797O"
      },
      "execution_count": null,
      "outputs": []
    },
    {
      "cell_type": "markdown",
      "source": [
        "Select columns to include manually. Certain columns are excluded to enhance the model's generalizability and avoid leakage (such as arrival_date_year, assigned_room_type, booking_changes, reservation_status, country, and days_in_waiting_list). While including the country column might improve accuracy, it could also reduce the model's general applicability"
      ],
      "metadata": {
        "id": "dY_3khIW797O"
      }
    },
    {
      "cell_type": "code",
      "source": [
        "numerical_features = ['lead_time', 'arrival_date_week_number','arrival_date_day_of_month',\n",
        "                    'stays_in_weekend_nights', 'stays_in_week_nights', 'adults',\n",
        "                    'children', 'babies', 'is_repeated_guest', 'previous_cancellations',\n",
        "                    'previous_bookings_not_canceled', 'agent', 'company',\n",
        "                    'required_car_parking_spaces', 'total_of_special_requests', 'adr']\n",
        "\n",
        "categorical_features = ['hotel', 'arrival_date_month', 'meal', 'market_segment',\n",
        "                        'distribution_channel', 'reserved_room_type', 'deposit_type',\n",
        "                        'customer_type']\n",
        "features = numerical_features + categorical_features\n",
        "\n",
        "# Split the data\n",
        "X = df_clean.drop('is_canceled', axis=1)\n",
        "y = df_clean['is_canceled']"
      ],
      "metadata": {
        "id": "BwOvfoLp797P"
      },
      "execution_count": null,
      "outputs": []
    },
    {
      "cell_type": "markdown",
      "source": [
        "Preprocess features:\n",
        "- For most numerical columns:\n",
        "    - except for date columns, using 0 as the fill value\n",
        "- For categorical (non numerical) features:\n",
        "    - Imputation: Missing values in categorical features are replaced with the constant value \"Unknown\".\n",
        "    - One-Hot Encoding: Categorical features are transformed into a binary matrix, with new columns created for each unique category. Any unknown categories encountered during transformation are ignored."
      ],
      "metadata": {
        "id": "qdA5nMNl797P"
      }
    },
    {
      "cell_type": "code",
      "source": [
        "from sklearn.impute import SimpleImputer\n",
        "from sklearn.pipeline import Pipeline\n",
        "from sklearn.compose import ColumnTransformer\n",
        "from sklearn.preprocessing import LabelEncoder, OneHotEncoder\n",
        "\n",
        "# Preprocessing for categorical features\n",
        "categorial_transformer = Pipeline(steps=[\n",
        "    (\"imputer\", SimpleImputer(strategy=\"constant\", fill_value=\"Unknown\")),\n",
        "    (\"onehot\", OneHotEncoder(handle_unknown='ignore'))\n",
        "])\n",
        "\n",
        "# Preprocessing for numerical features\n",
        "num_transformer = Pipeline(steps=[\n",
        "    (\"imputer\", SimpleImputer(strategy=\"mean\")),  # Handle missing values in numerical features\n",
        "    (\"scaler\", StandardScaler())\n",
        "])\n",
        "\n",
        "# Combine preprocessing steps\n",
        "preprocessor = ColumnTransformer(\n",
        "    transformers=[\n",
        "        (\"cat\", categorial_transformer, categorical_features),\n",
        "        (\"num\", num_transformer, numerical_features)\n",
        "    ])"
      ],
      "metadata": {
        "id": "_1U5kTmd797P"
      },
      "execution_count": null,
      "outputs": []
    },
    {
      "cell_type": "code",
      "source": [
        "from sklearn.model_selection import train_test_split, KFold, cross_validate, cross_val_score\n",
        "\n",
        "# Model Building\n",
        "models = {\n",
        "    'Logistic Regression': LogisticRegression(),\n",
        "    'Decision Tree': DecisionTreeClassifier(),\n",
        "    'Random Forest': RandomForestClassifier(),\n",
        "    'Gradient Boosting': GradientBoostingClassifier(),\n",
        "    'XGBoost': XGBClassifier()\n",
        "}\n",
        "\n",
        "kfolds = 4\n",
        "split = KFold(n_splits=kfolds, shuffle=True, random_state=42)\n",
        "\n",
        "results = {}\n",
        "for model_name, model in models.items():\n",
        "    model_steps = Pipeline(steps=[('preprocessor', preprocessor),\n",
        "                                  ('model', model)])\n",
        "    cv_results = cross_val_score(model_steps,\n",
        "                                 X,\n",
        "                                 y,\n",
        "                                 cv=split,\n",
        "                                 scoring=\"accuracy\",\n",
        "                                 n_jobs=-1)\n",
        "    # output:\n",
        "    min_score = round(min(cv_results), 4)\n",
        "    max_score = round(max(cv_results), 4)\n",
        "    mean_score = round(np.mean(cv_results), 4)\n",
        "    std_dev = round(np.std(cv_results), 4)\n",
        "    print(f'{model_name} cross validation accuarcy score: {mean_score} +/- {std_dev} (std) min: {min_score}, max: {max_score}')"
      ],
      "metadata": {
        "id": "gCdHYC4m797Q"
      },
      "execution_count": null,
      "outputs": []
    },
    {
      "cell_type": "markdown",
      "source": [
        "#### Summary: ####\n",
        "- **Best Performer:** Random Forest, with the highest average accuracy (86.71%) and stable performance.\n",
        "- **Most Stable:** Gradient Boosting, with the smallest standard deviation (0.0010).\n",
        "- **Overall:** All models have shown good performance, but Random Forest and XGBoost stand out in terms of accuracy."
      ],
      "metadata": {
        "id": "iaSJT1Ej797Q"
      }
    },
    {
      "cell_type": "code",
      "source": [
        "# Define the enhanced Random Forest model with the best parameters\n",
        "rf_model = RandomForestClassifier(\n",
        "    n_estimators=500,\n",
        "    max_features=0.4,\n",
        "    min_samples_split=2,\n",
        "    n_jobs=-1,\n",
        "    random_state=0\n",
        ")\n",
        "\n",
        "# Define KFold cross-validation\n",
        "kfolds = 4  # Number of folds\n",
        "split = KFold(n_splits=kfolds, shuffle=True, random_state=42)\n",
        "\n",
        "# Create a pipeline with preprocessor and the enhanced Random Forest model\n",
        "model_pipeline = Pipeline(steps=[\n",
        "    ('preprocessor', preprocessor),  # Assuming 'preprocessor' is defined elsewhere\n",
        "    ('model', rf_model)\n",
        "])\n",
        "\n",
        "# Perform cross-validation\n",
        "cv_results = cross_val_score(\n",
        "    model_pipeline,\n",
        "    X,\n",
        "    y,\n",
        "    cv=split,\n",
        "    scoring=\"accuracy\",\n",
        "    n_jobs=-1\n",
        ")\n",
        "\n",
        "# Output the results\n",
        "min_score = round(min(cv_results), 4)\n",
        "max_score = round(max(cv_results), 4)\n",
        "mean_score = round(np.mean(cv_results), 4)\n",
        "std_dev = round(np.std(cv_results), 4)\n",
        "\n",
        "print(f'Random Forest model cross-validation accuracy score: {mean_score} +/-'\n",
        "      f'{std_dev} (std) min: {min_score}, max: {max_score}')"
      ],
      "metadata": {
        "id": "XTtZODXX797Q"
      },
      "execution_count": null,
      "outputs": []
    },
    {
      "cell_type": "code",
      "source": [
        "import eli5\n",
        "\n",
        "model_pipeline.fit(X, y)\n",
        "\n",
        "categorial_columns = list(model_pipeline.named_steps['preprocessor'].\n",
        "                           named_transformers_['cat'].\n",
        "                           named_steps['onehot'].\n",
        "                           get_feature_names(input_features=categorical_features))\n",
        "\n",
        "feature_list = numerical_features + categorial_columns\n",
        "\n",
        "importances_df = eli5.formatters.as_dataframe.explain_weights_df(\n",
        "    model_pipeline.named_steps['model'],\n",
        "    feature_names=feature_list\n",
        ")\n",
        "importances_df.head(7)"
      ],
      "metadata": {
        "id": "iajBQ9iB797Q"
      },
      "execution_count": null,
      "outputs": []
    },
    {
      "cell_type": "code",
      "source": [
        "model_pipeline.fit(X, y)\n",
        "\n",
        "categorial_columns = list(model_pipeline.named_steps['preprocessor'].\n",
        "                           named_transformers_['cat'].\n",
        "                           named_steps['onehot'].\n",
        "                           get_feature_names(input_features=categorical_features))\n",
        "\n",
        "feature_list = numerical_features + categorial_columns\n",
        "\n",
        "rf_model = model_pipeline.named_steps['model']  # 'classifier' is the step name used in the pipeline\n",
        "\n",
        "importances = rf_model.feature_importances_\n",
        "\n",
        "# Create a Series for better visualization\n",
        "feature_importances = pd.Series(importances, index=feature_list).sort_values(ascending=False)\n",
        "feature_importances.head(7)"
      ],
      "metadata": {
        "id": "lP3fyBDW797R"
      },
      "execution_count": null,
      "outputs": []
    },
    {
      "cell_type": "markdown",
      "source": [
        "**Three most important features:**\n",
        "- reserved_room_type_A\n",
        "- market_segment_Online TA\n",
        "- customer_type_Transient-Party"
      ],
      "metadata": {
        "id": "nA9Y2-4i797R"
      }
    },
    {
      "cell_type": "code",
      "source": [],
      "metadata": {
        "id": "e2gs9Up-797R"
      },
      "execution_count": null,
      "outputs": []
    },
    {
      "cell_type": "code",
      "source": [],
      "metadata": {
        "id": "xtzjZxpW797R"
      },
      "execution_count": null,
      "outputs": []
    },
    {
      "cell_type": "code",
      "source": [],
      "metadata": {
        "id": "4zddDWU4797R"
      },
      "execution_count": null,
      "outputs": []
    },
    {
      "cell_type": "code",
      "source": [],
      "metadata": {
        "id": "pT6I8urE797S"
      },
      "execution_count": null,
      "outputs": []
    },
    {
      "cell_type": "code",
      "source": [],
      "metadata": {
        "id": "VEb9OY5E797S"
      },
      "execution_count": null,
      "outputs": []
    },
    {
      "cell_type": "code",
      "source": [],
      "metadata": {
        "id": "Qw3XR7WH797S"
      },
      "execution_count": null,
      "outputs": []
    },
    {
      "cell_type": "code",
      "source": [],
      "metadata": {
        "id": "iy3hV31l797S"
      },
      "execution_count": null,
      "outputs": []
    },
    {
      "cell_type": "code",
      "source": [],
      "metadata": {
        "id": "RbqAb-ZM797S"
      },
      "execution_count": null,
      "outputs": []
    },
    {
      "cell_type": "code",
      "source": [],
      "metadata": {
        "id": "nSBPJyFA797S"
      },
      "execution_count": null,
      "outputs": []
    }
  ]
}